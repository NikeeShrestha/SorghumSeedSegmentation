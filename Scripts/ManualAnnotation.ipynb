{
 "cells": [
  {
   "attachments": {},
   "cell_type": "markdown",
   "id": "c94a1daf-0b36-4c71-874d-8c108166f0c3",
   "metadata": {},
   "source": [
    "# This notebook has codes implemented for getting ground truth data from ten manually annotated seed images.\n",
    "\n",
    "All the files required for this notebook are in the '**ManualAnnotation**' directory located in the main directory. ManualAnnotation has three sub-directories:\n",
    "\n",
    "- **Images**: This subdirectory contains 0ten preprocessed images with manual annotation.\n",
    "- **JsonFiles**: This subdirectory contains two JSON files:\n",
    "    -  metadata_1.json has an annotation for five images and metadata_2.json has an annotation for the other five images.\n",
    "- **GroundTruth**: This is the directory where the data frame containing ground truth for each seed from manually annotated images will be saved after running the following notebook. The final frame will be saved in the following format: <imagename_ground_truth.csv>. Each ground truth file will contain 11 columns.\n",
    "    - ROI: The arbitrary serial number assigned to each seed in an image.\n",
    "    - Area: The number of pixels that belong to each seed.\n",
    "    - Major_axis_length: The longest distance between two points on the major axis of the seed mask.\n",
    "    - Minor_axis_length: The longest distance between two points on the minor axis of the seed mask.\n",
    "    - y1,x1,y2,x2: bounding box pixel coordinates surround each seed.\n",
    "    - Blue: Average blue intensity across pixels belonging to each seed.\n",
    "    - Green: Average green intensity across pixels belonging to each seed.\n",
    "    - Red: Average red intensity across pixels belonging to each seed."
   ]
  },
  {
   "cell_type": "code",
   "execution_count": 15,
   "id": "14ea785a",
   "metadata": {
    "tags": []
   },
   "outputs": [],
   "source": [
    "import warnings\n",
    "warnings.filterwarnings('ignore')  #general warning suppression\n",
    "import random\n",
    "import sys\n",
    "import numpy as np\n",
    "import json\n",
    "import cv2 as cv\n",
    "import os\n",
    "\n",
    "from skimage.io import imread\n",
    "from skimage.draw import polygon\n",
    "import pandas as pd\n",
    "from skimage.measure import label, regionprops, regionprops_table\n",
    "from skimage import data, filters, measure, morphology, io, color\n",
    "\n",
    "import tensorflow as tf ##we need tensorflow 2.10.0\n",
    "print(tf.__version__)\n",
    "import keras.backend as K ##we need keras 2.1.0\n",
    "\n",
    "os.environ['TF_CPP_MIN_LOG_LEVEL'] = '3'  #tensorflow deprecration warning suppression\n",
    "import matplotlib.pyplot as plt\n",
    "%matplotlib inline\n",
    "%config InlineBackend.figure_formats = {'png', 'retina'}\n",
    "# import pytesseract\n",
    "from PIL import ImageTk,Image, ImageDraw, ImageFilter"
   ]
  },
  {
   "cell_type": "code",
   "execution_count": 12,
   "id": "7bcea53f-3894-4b7b-86eb-4630cbc4f6f8",
   "metadata": {
    "tags": []
   },
   "outputs": [
    {
     "name": "stdout",
     "output_type": "stream",
     "text": [
      "Mask_RCNN directory already exists\n"
     ]
    }
   ],
   "source": [
    "if not os.path.exists(\"../Mask-RCNN\"):\n",
    "    !git clone https://github.com/matterport/Mask_RCNN.git\n",
    "    print(\"Cloned repository\")\n",
    "else:\n",
    "    print(\"Mask_RCNN directory already exists\")"
   ]
  },
  {
   "cell_type": "code",
   "execution_count": 13,
   "id": "2342780b-f4a0-4847-9b9c-2c8a7444ea5d",
   "metadata": {
    "tags": []
   },
   "outputs": [
    {
     "name": "stdout",
     "output_type": "stream",
     "text": [
      "done\n"
     ]
    }
   ],
   "source": [
    "sys.path.append(\"../Mask-RCNN\") \n",
    "\n",
    "from mrcnn.visualize import display_images\n",
    "from mrcnn.model import log\n",
    "import mrcnn.model as modellib\n",
    "from mrcnn.config import Config\n",
    "from mrcnn import utils, visualize\n",
    "print(\"done\")"
   ]
  },
  {
   "cell_type": "code",
   "execution_count": 14,
   "id": "01af87df",
   "metadata": {
    "tags": []
   },
   "outputs": [],
   "source": [
    "real_world_dir = \"../ManualAnnotation/Images/\"\n",
    "json_files = \"../ManualAnnotation/JsonFiles/\"\n",
    "Dataframe=\"../ManualAnnotation/Groundtruth/\"\n",
    "\n",
    "json_dir=os.path.join(json_files,random.choice(os.listdir(json_files))) ##Randomly choose one .json file out of two files."
   ]
  },
  {
   "cell_type": "code",
   "execution_count": 20,
   "id": "018d90bc",
   "metadata": {
    "tags": []
   },
   "outputs": [
    {
     "name": "stdout",
     "output_type": "stream",
     "text": [
      "['4305.jpg', '4567.jpg', '4762.jpg', '4898.jpg', '5021.jpg']\n"
     ]
    }
   ],
   "source": [
    "with open(json_dir) as f:\n",
    "    jsondata = json.load(f)\n",
    "\n",
    "files = [x[\"file_name\"] for x in jsondata[\"images\"]]\n",
    "print(files)"
   ]
  },
  {
   "cell_type": "code",
   "execution_count": 23,
   "id": "38a4a3c5",
   "metadata": {
    "tags": []
   },
   "outputs": [],
   "source": [
    "for imagenum in files:\n",
    "    print(imagenum)\n",
    "    image = cv.imread(real_world_dir+str(imagenum))\n",
    "    image = cv.cvtColor(img_bgr, cv.COLOR_BGR2RGB)\n",
    "    myid=[]\n",
    "    instance_masks = []\n",
    "    class_ids = []\n",
    "    bbox=[]\n",
    "    for i in jsondata['images']:\n",
    "        if i[\"file_name\"]==str(imagenum):\n",
    "            for j in jsondata['annotations']:\n",
    "                if i[\"id\"]==j[\"image_id\"]:\n",
    "                    x1=j[\"bbox\"][0]\n",
    "                    y1=j[\"bbox\"][1]\n",
    "                    x2=x1+j[\"bbox\"][2]\n",
    "                    y2=y1+j[\"bbox\"][3]\n",
    "                    list1=[y1,x1,y2,x2]\n",
    "                    bbox.append(list1)\n",
    "                    class_ids.append(j[\"category_id\"])\n",
    "                    myid.append(j[\"segmentation\"])\n",
    "            for segmentation in myid:\n",
    "                mask = np.zeros(image.shape[:2])\n",
    "                mask=Image.fromarray(mask)\n",
    "                mask_draw = ImageDraw.Draw(mask)\n",
    "                mask_draw.polygon(segmentation[0], outline=1, fill=1)\n",
    "                bool_array = np.array(mask) > 0\n",
    "                instance_masks.append(bool_array)\n",
    "    class_ids=np.array(class_ids,dtype=np.int32)\n",
    "    bbox=np.array(bbox,dtype=np.int32)\n",
    "    instance_masks=np.array(instance_masks, dtype=np.int8)\n",
    "    mask=np.transpose(instance_masks, (1,2,0))\n",
    "    # r=model.detect([image], verbose=0)[0]\n",
    "    count=mask.shape[-1]\n",
    "    \n",
    "    Morphological_ground=[]\n",
    "    for i in range(bbox.shape[0]):\n",
    "        singlemask=mask[:,:,i]\n",
    "        b=bbox[i]\n",
    "        props = regionprops(singlemask.astype(int))[0]\n",
    "        area = props.area\n",
    "        major_axis_length = props.major_axis_length\n",
    "        minor_axis_length = props.minor_axis_length\n",
    "        singlemask=singlemask.astype(bool)\n",
    "\n",
    "        color=pd.DataFrame(image[singlemask])\n",
    "        B = (color.mean()[2])\n",
    "        G = (color.mean()[1])\n",
    "        R = (color.mean()[0])\n",
    "        \n",
    "        \n",
    "        Morphological_ground.append(\n",
    "            {\n",
    "                'ROI':i+1,\n",
    "                'Area':area,\n",
    "                'Major_axis_length':major_axis_length,\n",
    "                'Minor_axis_length':minor_axis_length,\n",
    "                'y1':b[0],\n",
    "                'x1':b[1],\n",
    "                'y2':b[2],\n",
    "                'x2':b[3],\n",
    "                'Blue':B,\n",
    "                'Green':G,\n",
    "                'Red':R\n",
    "            }\n",
    "        )\n",
    "\n",
    "    print(f'Image Name: {imagenum}')\n",
    "    \n",
    "    visualize.display_instances(\n",
    "        image, bbox, mask, class_ids,\n",
    "        [\"\",\"\"], [\"\" for x in range(len(bbox))],\n",
    "        show_bbox=True, show_mask=True,\n",
    "        title=\"\")\n",
    "    \n",
    "    ground=pd.DataFrame(Morphological_ground)\n",
    "    ground.to_csv(Dataframe+str(imagenum)+\"_ground_truth\"+\".csv\", index=False)\n",
    "    \n",
    "print(\"doneall\")"
   ]
  }
 ],
 "metadata": {
  "kernelspec": {
   "display_name": "tensorflow",
   "language": "python",
   "name": "tf"
  },
  "language_info": {
   "codemirror_mode": {
    "name": "ipython",
    "version": 3
   },
   "file_extension": ".py",
   "mimetype": "text/x-python",
   "name": "python",
   "nbconvert_exporter": "python",
   "pygments_lexer": "ipython3",
   "version": "3.10.13"
  }
 },
 "nbformat": 4,
 "nbformat_minor": 5
}
