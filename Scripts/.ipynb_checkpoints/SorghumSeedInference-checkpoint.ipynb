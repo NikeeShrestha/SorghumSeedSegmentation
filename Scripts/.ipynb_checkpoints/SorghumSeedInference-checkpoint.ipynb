{
 "cells": [
  {
   "cell_type": "markdown",
   "id": "d5af5030-5d1d-47a6-b3f0-1baddc34093d",
   "metadata": {},
   "source": [
    "# Crop Seed Segmentation Guide for Sorghum Seed\n",
    "\n",
    "A lot of the codes are adapted from Toda et al. 2020\n",
    "Their github: https://github.com/totti0223/crop_seed_instance_segmentation.git\n",
    "\n",
    "Download the models from their github page, I provided the link here just in case:\n",
    "The folder is named \"data\".\n",
    "Link: https://drive.google.com/file/d/1g8bg9ter9DlKWgs0lfPZMQemRlzRVOQr/view?usp=sharing\n",
    "\n",
    "The files required to run this notebook are stored in the directory '**inference** in the main folder. The '**inference**' directory has three sub-directories.\n",
    "\n",
    "- **rawimages**: This directory contains raw scans of sorghum seeds before pre-processing to produce the final images used for detection.\n",
    "- **processedimages**: This directory will store pre-processed images from raw sorghum seed scans after running the codes below.\n",
    "- **data**: This is the directory where the data extracted after seed scan segmentation is saved.\n"
   ]
  },
  {
   "cell_type": "markdown",
   "id": "26158759-c709-4ae7-b9e2-dce5c8da6a45",
   "metadata": {},
   "source": [
    "# The modules needed for this notebook: \n",
    "\n",
    "1. warnings\n",
    "2. scikit-image\n",
    "3. sys\n",
    "4. numpy\n",
    "5. pathlib\n",
    "6. opencv\n",
    "7. pandas\n",
    "8. tensorflow == 2.10.0\n",
    "9. keras\n",
    "10. os\n",
    "11. pytesseract\n",
    "12. matplotlib"
   ]
  },
  {
   "cell_type": "code",
   "execution_count": 13,
   "id": "dc04bd88",
   "metadata": {},
   "outputs": [],
   "source": [
    "import warnings\n",
    "warnings.filterwarnings('ignore')  #general warning suppression\n",
    "import skimage.io\n",
    "import sys\n",
    "import numpy as np\n",
    "import json\n",
    "from pathlib import Path\n",
    "import cv2 as cv ##opencv\n",
    "from skimage.measure import label, regionprops, regionprops_table\n",
    "import pandas as pd\n",
    "import tensorflow as tf \n",
    "import keras.backend as K \n",
    "import os\n",
    "os.environ['TF_CPP_MIN_LOG_LEVEL'] = '3'  #tensorflow deprecration warning suppression\n",
    "import matplotlib.pyplot as plt\n",
    "%matplotlib inline\n",
    "%config InlineBackend.figure_formats = {'png', 'retina'}\n",
    "import pytesseract\n",
    "\n",
    "tf.__version__"
   ]
  },
  {
   "cell_type": "code",
   "execution_count": 5,
   "id": "3ba305c2",
   "metadata": {},
   "outputs": [
    {
     "name": "stderr",
     "output_type": "stream",
     "text": [
      "Cloning into '../Mask-RCNN'...\n"
     ]
    },
    {
     "name": "stdout",
     "output_type": "stream",
     "text": [
      "Cloned repository\n"
     ]
    }
   ],
   "source": [
    "if not os.path.exists(\"../Mask-RCNN\"):\n",
    "    os.system(\"git clone https://github.com/NikeeShrestha/Mask-RCNN.git ../Mask-RCNN\")##this is adapted for tensorflow 2.10.0\n",
    "    print(\"Cloned repository\")\n",
    "else:\n",
    "    print(\"Mask-RCNN directory already exists\")"
   ]
  },
  {
   "cell_type": "code",
   "execution_count": 7,
   "id": "875d9fbd",
   "metadata": {},
   "outputs": [
    {
     "name": "stdout",
     "output_type": "stream",
     "text": [
      "done\n"
     ]
    }
   ],
   "source": [
    "sys.path.append(\"../Mask-RCNN\") \n",
    "\n",
    "from mrcnn.visualize import display_images\n",
    "from mrcnn.model import log\n",
    "import mrcnn.model as modellib\n",
    "from mrcnn.config import Config\n",
    "from mrcnn import utils, visualize\n",
    "print(\"done\")"
   ]
  },
  {
   "cell_type": "code",
   "execution_count": 8,
   "id": "4b6bdbdc",
   "metadata": {},
   "outputs": [],
   "source": [
    "class InferenceConfig(Config):  ##Config is the modellib fucntion of Mask-RCNN\n",
    "    NAME = \"seed\" ##you can name it anything\n",
    "    GPU_COUNT = 1\n",
    "    IMAGES_PER_GPU = 1\n",
    "    NUM_CLASSES = 1 + 1  # background + 1 seeds\n",
    "    IMAGE_MIN_DIM = 512\n",
    "    IMAGE_MAX_DIM = 8192\n",
    "    DETECTION_MAX_INSTANCES = 1000\n",
    "    IMAGE_RESIZE_MODE = \"pad64\"\n",
    "    RPN_NMS_THRESHOLD = 0.4\n",
    "    DETECTION_MIN_CONFIDENCE = 0\n",
    "\n",
    "config = InferenceConfig()"
   ]
  },
  {
   "cell_type": "markdown",
   "id": "60f72b9f",
   "metadata": {},
   "source": [
    "# Load the model with path specific directory where model is saved after downloading from this link: \n",
    "\n",
    "https://drive.google.com/file/d/1g8bg9ter9DlKWgs0lfPZMQemRlzRVOQr/view?usp=sharing"
   ]
  },
  {
   "cell_type": "code",
   "execution_count": 12,
   "id": "2bf46229",
   "metadata": {},
   "outputs": [],
   "source": [
    "K.clear_session()\n",
    "model = modellib.MaskRCNN(mode=\"inference\", config=config, model_dir=\".\") \n",
    "##mode=inference means you want to use pre-trained model and predict on the image\n",
    "model.load_weights(\"../NottoGithub/data/other/model_weights/rice.h5\", by_name=True) ##I am using a pre-trained model on rice seeds\n",
    "print(\"model weights loaded\")"
   ]
  },
  {
   "cell_type": "markdown",
   "id": "e7d672fd",
   "metadata": {},
   "source": [
    "# Segmentation and Data extraction; Length, Width, Area and three Color Channels: red, green and blue\n",
    "\n",
    "Cropping and preprocessing parameters should be optimized based on the dimension and quality of images."
   ]
  },
  {
   "cell_type": "code",
   "execution_count": 11,
   "id": "08f78f7a",
   "metadata": {},
   "outputs": [],
   "source": [
    "path_directory=\"../inference/rawimages/\"\n",
    "Data='../inference/data/'\n",
    "Processed_image_directory=\"../inference/processedimages/\"\n",
    "path1=Path(path_directory) ## Directory where your raw images area \n",
    "path=path1.glob(\"*.jpg\") ##My images are in \"jpg\" format\n",
    "\n",
    "MorphologicalData=[]\n",
    "for i in path:\n",
    "    img=cv.imread(str(i))##converting i into string with str function\n",
    "    seed_tag=img[2800:3500,0:800] ##Cropping the seed tag\n",
    "    thresh, seed_bw = cv.threshold(seed_tag, 155, 255, cv.THRESH_BINARY) ##Change to binary\n",
    "    print(i)\n",
    "    text=pytesseract.image_to_string(seed_bw ,config='--psm 6 --oem 3 -c tessedit_char_whitelist=0123456789') ##recognize the text\n",
    "    text=text.strip() ##remove /n from text\n",
    "    print(text) ##print plotID (Pleasecheck manually because sometimes it extract wrong informnation.)\n",
    "    seed_grain=img[1410:2610,645:1815] \n",
    "    seed_grain=cv.GaussianBlur(seed_grain,(5,5),0) \n",
    "    seed_gray=cv.cvtColor(seed_grain, cv.COLOR_BGR2GRAY) ##convert to grayscale\n",
    "    thresh, img_bw = cv.threshold(seed_gray, 45, 255, cv.THRESH_BINARY) ##convert to binary with anything vale of 65 changes to white color\n",
    "    masked= cv.bitwise_and(seed_grain, seed_grain, mask=img_bw) ##Masking together \n",
    "    cv.imwrite(Processed_image_directory + str(text) + \"_\" + os.path.basename(str(i)), masked) ##saving the picture\n",
    "    \n",
    "    results = model.detect([masked], verbose=1)\n",
    "    r = results[0] \n",
    "    mask1=r['masks']\n",
    "    # visualize.display_instances(\n",
    "    #         masked, r['rois'], r['masks'], r['class_ids'],\n",
    "    #         [\"\",\"\"], [\"\" for x in range(len(r['scores']))],\n",
    "    #         show_bbox=True, show_mask=True,\n",
    "    #         title=\"\")\n",
    "    \n",
    "    ##Region Properties\n",
    "    temp_morphologydata=[]\n",
    "\n",
    "    for i in range(r['rois'].shape[0]):\n",
    "        singlemaskpred=r['masks'][:,:,i]\n",
    "        props=skimage.measure.regionprops(singlemaskpred.astype(int))[0]\n",
    "        area=props.area\n",
    "        major_axis_length=props.major_axis_length\n",
    "        minor_axis_length=props.minor_axis_length\n",
    "        temp_morphologydata.append({\n",
    "            'area':area,\n",
    "            'major_axis_length':major_axis_length,\n",
    "            'minor_axis_length':minor_axis_length\n",
    "        })\n",
    "        # count=count+1\n",
    "    df=pd.DataFrame(temp_morphologydata)\n",
    "    df = df.drop(df['area'].idxmax()) ##Dropping the maximum data of area because sometimes huge masks are created and we do not want to consider it while taking the average.\n",
    "    df = df.drop(df['area'].idxmin()) ##Dropping the minimum data of area because sometimes small particles can be segmented.\n",
    "    \n",
    "    ##Parameters that we measure\n",
    "    Label=mask1.shape[-1]\n",
    "    imagename=os.path.basename(str(i))\n",
    "    Area=df.mean()['area']\n",
    "    Length=df.mean()['major_axis_length']\n",
    "    Width=df.mean()['minor_axis_length']\n",
    "    # EquivalentDiameter=df.mean()['equivalent_diameter']\n",
    "    \n",
    "    ##RGB extraction\n",
    "    B=[]\n",
    "    G=[]\n",
    "    R=[]\n",
    "    for i in range(r['masks'].shape[-1]):\n",
    "        mask = r['masks'][:, :, i]\n",
    "        color=pd.DataFrame(seed_grain[mask])\n",
    "        B.append(color.mean()[0])\n",
    "        G.append(color.mean()[1])\n",
    "        R.append(color.mean()[2])\n",
    "    print(\"done\")\n",
    "    AverageB=sum(B)/len(B)\n",
    "    AverageG=sum(G)/len(G)\n",
    "    AverageR=sum(R)/len(R)\n",
    "    \n",
    "\n",
    "    MorphologicalData.append(\n",
    "        {\n",
    "            'imagename': imagename,\n",
    "            'PlotID': text,\n",
    "            'Count': Label,\n",
    "            'Area': Area,\n",
    "            'Length': Length,\n",
    "            'Width': Width,\n",
    "            'AverageB':AverageB,\n",
    "            'AverageG':AverageG,\n",
    "            'AverageR':AverageR  \n",
    "        }\n",
    "    )\n",
    "  \n",
    "MorphologicalData=pd.DataFrame(MorphologicalData)\n",
    "MorphologicalData.to_csv(Data + \"MorphologicalData.csv\", index=False) ##Saving the data extracted in csv file"
   ]
  }
 ],
 "metadata": {
  "kernelspec": {
   "display_name": "tensorflow",
   "language": "python",
   "name": "tf"
  },
  "language_info": {
   "codemirror_mode": {
    "name": "ipython",
    "version": 3
   },
   "file_extension": ".py",
   "mimetype": "text/x-python",
   "name": "python",
   "nbconvert_exporter": "python",
   "pygments_lexer": "ipython3",
   "version": "3.10.13"
  }
 },
 "nbformat": 4,
 "nbformat_minor": 5
}
